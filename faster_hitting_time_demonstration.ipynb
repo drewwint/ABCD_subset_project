{
  "nbformat": 4,
  "nbformat_minor": 0,
  "metadata": {
    "colab": {
      "provenance": [],
      "authorship_tag": "ABX9TyMMmmmGJLILI38ieUXTKq2O",
      "include_colab_link": true
    },
    "kernelspec": {
      "name": "python3",
      "display_name": "Python 3"
    },
    "language_info": {
      "name": "python"
    }
  },
  "cells": [
    {
      "cell_type": "markdown",
      "metadata": {
        "id": "view-in-github",
        "colab_type": "text"
      },
      "source": [
        "<a href=\"https://colab.research.google.com/github/drewwint/ABCD_subset_project/blob/main/faster_hitting_time_demonstration.ipynb\" target=\"_parent\"><img src=\"https://colab.research.google.com/assets/colab-badge.svg\" alt=\"Open In Colab\"/></a>"
      ]
    },
    {
      "cell_type": "markdown",
      "source": [
        "# Speeding up hitting time\n",
        "By: Drew E. Winters, PhD\n",
        "\n",
        "I updated the function to include parallel processing to speed up calculation for larger datasets.\n",
        "- This successfully reduced time considerably and produces ~ the same results with only minor differnces that is very unlikely to impact hitting time estimation in any significant way.\n",
        "\n",
        "\n",
        "This was based on the following citation\n",
        "- Rezaeinia, P., Fairley, K., Pal, P., Meyer, F. G., & Carter, R. M. (2020). Identifying brain network topology changes in task processes and psychiatric disorders. Network Neuroscience, 4(1), 257-273.\n",
        "\n"
      ],
      "metadata": {
        "id": "igUKhOOOhU8J"
      }
    },
    {
      "cell_type": "markdown",
      "source": [
        "## Origional function"
      ],
      "metadata": {
        "id": "dD4_wiAiiA0W"
      }
    },
    {
      "cell_type": "code",
      "execution_count": 14,
      "metadata": {
        "id": "huNBoEzshTZB"
      },
      "outputs": [],
      "source": [
        "import time\n",
        "\n",
        "## Old version\n",
        "def hitting_matrix(correlation_matrix):\n",
        "  start_time = time.perf_counter()\n",
        "  correlation_matrix = abs(correlation_matrix)  ## added this to only retain absolute values.\n",
        "  L = np.size(correlation_matrix,axis = 0)\n",
        "  A_matrix = np.array(correlation_matrix)\n",
        "  D_matrix = np.zeros((L,L))\n",
        "  for i in range(L):\n",
        "      D_matrix[i,i] = np.sum(A_matrix[i]) # loop unnecessary - just sum the columns\n",
        "\n",
        "  d_max = np.max(D_matrix)\n",
        "\n",
        "  for j in range(L):\n",
        "      if np.max(A_matrix[j,:]) < .05:\n",
        "          A_matrix[j,j] = d_max - D_matrix[j,j] # no need to make a matrix with a values on the diagonal - just a list\n",
        "\n",
        "  D_matrix = np.zeros((L,L))\n",
        "  D_inv = np.zeros((L,L))\n",
        "  D_sqrt = np.zeros((L,L))\n",
        "  D_sqrt_inv = np.zeros((L,L))\n",
        "  for i in range(L):\n",
        "      D_matrix[i,i] = np.sum(A_matrix[i])\n",
        "      D_inv[i,i] = 1./D_matrix[i,i]\n",
        "      D_sqrt[i,i] = np.sqrt(D_matrix[i,i])\n",
        "      D_sqrt_inv[i,i] = 1./D_sqrt[i,i]\n",
        "\n",
        "  p_matrix = np.dot(D_inv, A_matrix)\n",
        "\n",
        "  # Graph Laplacian\n",
        "  eye_matrix = np.eye(L,L)\n",
        "  eye_P = eye_matrix - p_matrix\n",
        "\n",
        "  G_Lap = np.dot(D_sqrt,eye_P)\n",
        "  G_Lap_n = np.dot(G_Lap, D_sqrt_inv)\n",
        "\n",
        "  [eig_val, eig_vec] = np.linalg.eigh(G_Lap_n)\n",
        "  H = np.zeros((L,L))\n",
        "  d = np.sum(D_matrix)\n",
        "  for i in range(L):\n",
        "      for j in range(L):\n",
        "          deg_i = D_matrix[i,i]\n",
        "          deg_j = D_matrix[j,j]\n",
        "          for k in range(L):\n",
        "              if eig_val[k] != min(eig_val):\n",
        "                  t_i = (eig_vec[i,k]*eig_vec[i,k])/deg_i\n",
        "                  t_j = (eig_vec[j,k]*eig_vec[j,k])/deg_j\n",
        "                  t_ij = (eig_vec[i,k]*eig_vec[j,k])/np.sqrt(deg_i*deg_j)\n",
        "                  H[i,j] = H[i,j] + d*(1./(eig_val[k]))*(t_j-t_ij)\n",
        "\n",
        "  H = np.transpose(H)\n",
        "  end_time = time.perf_counter()\n",
        "  print(f\"origional total time: {end_time - start_time:.2f} seconds\")\n",
        "  return H"
      ]
    },
    {
      "cell_type": "markdown",
      "source": [
        "## Speed up function"
      ],
      "metadata": {
        "id": "V3c7InpkiExm"
      }
    },
    {
      "cell_type": "code",
      "source": [
        "\n",
        "from joblib import Parallel, delayed\n",
        "import numpy as np\n",
        "\n",
        "def hitting_matrix_p2(correlation_matrix):\n",
        "    start_time = time.perf_counter()\n",
        "    correlation_matrix = np.array(abs(correlation_matrix))  # Ensure absolute values\n",
        "    np.fill_diagonal(correlation_matrix, 0)  # Set diagonal to 0\n",
        "\n",
        "    L = correlation_matrix.shape[0]\n",
        "    A_matrix = correlation_matrix.copy()\n",
        "\n",
        "    # Degree matrix\n",
        "    row_sums = A_matrix.sum(axis=1) # instead of d_matrix loop we sum columns without the loop\n",
        "    d_max = row_sums.max()\n",
        "\n",
        "    # Ensure graph connectivity\n",
        "    for j in range(L):\n",
        "      if np.max(A_matrix[j,:]) < .05:\n",
        "          A_matrix[j,j] = d_max - row_sums[j]\n",
        "\n",
        "    row_sums = A_matrix.sum(axis=1)  # Recalculate after adjustment\n",
        "    D_inv = np.diag(1.0 / row_sums)\n",
        "    D_sqrt = np.diag(np.sqrt(row_sums))\n",
        "    D_sqrt_inv = np.diag(1.0 / np.sqrt(row_sums))\n",
        "\n",
        "    # Transition probability matrix and Graph Laplacian\n",
        "    p_matrix = D_inv @ A_matrix\n",
        "    eye_P = np.eye(L) - p_matrix\n",
        "    G_Lap_n = D_sqrt @ eye_P @ D_sqrt_inv\n",
        "\n",
        "    # Eigen decomposition\n",
        "    eig_val, eig_vec = np.linalg.eigh(G_Lap_n)\n",
        "\n",
        "    # Precompute reusable quantities\n",
        "    eig_val_nonzero = eig_val[eig_val > eig_val.min()]\n",
        "    eig_vec_squared = eig_vec ** 2\n",
        "    d_total = row_sums.sum()\n",
        "\n",
        "    def compute_H_row(i):\n",
        "        H_row = np.zeros(L)\n",
        "        deg_i = row_sums[i]\n",
        "        for j in range(L):\n",
        "            deg_j = row_sums[j]\n",
        "            t_ij = (\n",
        "                eig_vec_squared[i, eig_val > eig_val.min()] / deg_i\n",
        "                - eig_vec[i, eig_val > eig_val.min()]\n",
        "                * eig_vec[j, eig_val > eig_val.min()]\n",
        "                / np.sqrt(deg_i * deg_j)\n",
        "            )\n",
        "            H_row[j] = np.sum(d_total * t_ij / eig_val_nonzero)\n",
        "        return H_row\n",
        "\n",
        "    # Parallelize computation of rows\n",
        "    with Parallel(n_jobs=-1, backend=\"loky\") as parallel:\n",
        "        H = np.array(parallel(delayed(compute_H_row)(i) for i in range(L)))\n",
        "    end_time = time.perf_counter()\n",
        "    print(f\"faster function total time: {end_time - start_time:.2f} seconds\")\n",
        "    return H\n",
        "\n"
      ],
      "metadata": {
        "id": "J7xQ27vkiJE-"
      },
      "execution_count": 15,
      "outputs": []
    },
    {
      "cell_type": "markdown",
      "source": [
        "# Comparing the functions"
      ],
      "metadata": {
        "id": "2AaZWxsBi_tj"
      }
    },
    {
      "cell_type": "markdown",
      "source": [
        "## Simulating data"
      ],
      "metadata": {
        "id": "vCIQPaS-jGcN"
      }
    },
    {
      "cell_type": "code",
      "source": [
        "np.random.seed(1979)\n",
        "N = 216\n",
        "\n",
        "# Create a symmetric positive semi-definite correlation-like matrix\n",
        "A = np.random.rand(N, N)\n",
        "corr_matrix = (A + A.T) / 2  # make symmetric\n",
        "np.fill_diagonal(corr_matrix, 1.0)\n"
      ],
      "metadata": {
        "id": "ascGHfKxi_zz"
      },
      "execution_count": 16,
      "outputs": []
    },
    {
      "cell_type": "markdown",
      "source": [
        "## Comparing output and time to estimate"
      ],
      "metadata": {
        "id": "tg0UKwOxjW2f"
      }
    },
    {
      "cell_type": "code",
      "source": [
        "\n",
        "# Run both functions\n",
        "H1 = hitting_matrix(corr_matrix)\n",
        "H2 = hitting_matrix_p2(corr_matrix)\n",
        "\n",
        "# Compare outputs\n",
        "abs_diff = np.abs(H1 - H2)\n",
        "row_mean_diff = np.abs(H1.mean(axis=1) - H2.mean(axis=1))\n",
        "col_mean_diff = np.abs(H1.mean(axis=0) - H2.mean(axis=0))\n",
        "\n",
        "print(\"\\n=== Comparison Summary ===\")\n",
        "print(f\"Matrix Mean Absolute Difference: {np.mean(abs_diff):.4e}\")\n",
        "print(f\"Row Mean Absolute Difference:   {np.mean(row_mean_diff):.4e}\")\n",
        "print(f\"Col Mean Absolute Difference:   {np.mean(col_mean_diff):.4e}\")"
      ],
      "metadata": {
        "colab": {
          "base_uri": "https://localhost:8080/"
        },
        "id": "suD2yxDkjKGt",
        "outputId": "e837dfa7-8c7c-4ada-c1f8-13e070b45c09"
      },
      "execution_count": 17,
      "outputs": [
        {
          "output_type": "stream",
          "name": "stdout",
          "text": [
            "origional total time: 225.56 seconds\n",
            "faster function total time: 4.59 seconds\n",
            "\n",
            "=== Comparison Summary ===\n",
            "Matrix Mean Absolute Difference: 1.9927e+00\n",
            "Row Mean Absolute Difference:   1.9927e+00\n",
            "Col Mean Absolute Difference:   1.9927e+00\n"
          ]
        }
      ]
    },
    {
      "cell_type": "markdown",
      "source": [
        "# Conclusion\n",
        "The new function takes considerably less time to estimate\n",
        "- 4.59 seconds in the new function VS 225.56 seconds in the origional\n",
        "- Making the new function ~ 98% faster than the origional\n",
        "\n",
        "On average the faster function estimates about 2 less hops, which is consistent across all cells in the hitting matrix\n",
        "- This acts as a scaling back of about 2 hops consistently\n",
        "- Thus it retains the relative hitting time values\n",
        "- Therefore it is consistent and will not bias results one way or another\n",
        "\n",
        "It is advisable to use the new function for faster hitting time estimation"
      ],
      "metadata": {
        "id": "49CVU4nnlolm"
      }
    }
  ]
}